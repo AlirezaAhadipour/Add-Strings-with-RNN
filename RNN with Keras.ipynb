{
  "cells": [
    {
      "cell_type": "markdown",
      "metadata": {
        "id": "iLsobX3p1ZvM"
      },
      "source": [
        "# Training an RNN with Keras to add strings!\n",
        "\n",
        "Given the string \"54+7\", the model should return a prediction: \"61\"."
      ]
    },
    {
      "cell_type": "code",
      "execution_count": null,
      "metadata": {
        "id": "Js6xMKpg1ZvN"
      },
      "outputs": [],
      "source": [
        "import numpy as np\n",
        "\n",
        "from tensorflow.keras.models import Sequential\n",
        "from tensorflow.keras.layers import TimeDistributed, Dense, Dropout, SimpleRNN, RepeatVector\n",
        "from tensorflow.keras.callbacks import EarlyStopping, LambdaCallback\n",
        "\n",
        "from termcolor import colored"
      ]
    },
    {
      "cell_type": "markdown",
      "metadata": {
        "id": "rpup94rl1ZvO"
      },
      "source": [
        "## Generate Data\n"
      ]
    },
    {
      "cell_type": "code",
      "execution_count": null,
      "metadata": {
        "id": "hP-OyQrivBNl"
      },
      "outputs": [],
      "source": [
        "all_chars = '0123456789+'"
      ]
    },
    {
      "cell_type": "code",
      "execution_count": null,
      "metadata": {
        "id": "mPKLILAs1ZvO"
      },
      "outputs": [],
      "source": [
        "num_features = len(all_chars)"
      ]
    },
    {
      "cell_type": "code",
      "execution_count": null,
      "metadata": {
        "id": "L2b1Xg9hvBNr",
        "outputId": "9f10a26d-0840-4740-c09d-e5232acd34cb"
      },
      "outputs": [
        {
          "data": {
            "text/plain": [
              "{'0': 0,\n",
              " '1': 1,\n",
              " '2': 2,\n",
              " '3': 3,\n",
              " '4': 4,\n",
              " '5': 5,\n",
              " '6': 6,\n",
              " '7': 7,\n",
              " '8': 8,\n",
              " '9': 9,\n",
              " '+': 10}"
            ]
          },
          "execution_count": 4,
          "metadata": {},
          "output_type": "execute_result"
        }
      ],
      "source": [
        "char_to_indx = dict((char, indx) for indx, char in enumerate(all_chars))\n",
        "char_to_indx"
      ]
    },
    {
      "cell_type": "code",
      "execution_count": null,
      "metadata": {
        "id": "m7I3mwNq1ZvP",
        "outputId": "0a3ae1b4-99ba-4bc9-b3fa-87f50c98fa92"
      },
      "outputs": [
        {
          "data": {
            "text/plain": [
              "{0: '0',\n",
              " 1: '1',\n",
              " 2: '2',\n",
              " 3: '3',\n",
              " 4: '4',\n",
              " 5: '5',\n",
              " 6: '6',\n",
              " 7: '7',\n",
              " 8: '8',\n",
              " 9: '9',\n",
              " 10: '+'}"
            ]
          },
          "execution_count": 5,
          "metadata": {},
          "output_type": "execute_result"
        }
      ],
      "source": [
        "indx_to_char = dict((indx, char) for indx, char in enumerate(all_chars))\n",
        "indx_to_char"
      ]
    },
    {
      "cell_type": "code",
      "execution_count": null,
      "metadata": {
        "id": "kHdM6zxn1ZvQ",
        "outputId": "56f9f955-c736-40df-e2c9-e566eb688a5d"
      },
      "outputs": [
        {
          "data": {
            "text/plain": [
              "('35+88', '123')"
            ]
          },
          "execution_count": 6,
          "metadata": {},
          "output_type": "execute_result"
        }
      ],
      "source": [
        "def generate_data():\n",
        "    first = np.random.randint(0,100)\n",
        "    second = np.random.randint(0,100)\n",
        "    example = str(first) + '+' + str(second)\n",
        "    label = str(first + second)\n",
        "    return example, label\n",
        "\n",
        "generate_data()"
      ]
    },
    {
      "cell_type": "markdown",
      "metadata": {
        "id": "9UFnyFVG1ZvQ"
      },
      "source": [
        "## Create the Model\n"
      ]
    },
    {
      "cell_type": "code",
      "execution_count": null,
      "metadata": {
        "colab": {
          "base_uri": "https://localhost:8080/",
          "height": 377
        },
        "id": "iZKl0LtdvBNy",
        "outputId": "34a3c344-5985-4e3b-e1ac-392c18739308"
      },
      "outputs": [
        {
          "name": "stdout",
          "output_type": "stream",
          "text": [
            "_________________________________________________________________\n",
            "Layer (type)                 Output Shape              Param #   \n",
            "=================================================================\n",
            "simple_rnn (SimpleRNN)       (None, 128)               17920     \n",
            "_________________________________________________________________\n",
            "repeat_vector (RepeatVector) (None, 5, 128)            0         \n",
            "_________________________________________________________________\n",
            "simple_rnn_1 (SimpleRNN)     (None, 5, 128)            32896     \n",
            "_________________________________________________________________\n",
            "time_distributed (TimeDistri (None, 5, 11)             1419      \n",
            "=================================================================\n",
            "Total params: 52,235\n",
            "Trainable params: 52,235\n",
            "Non-trainable params: 0\n",
            "_________________________________________________________________\n"
          ]
        }
      ],
      "source": [
        "hidden_units = 128\n",
        "max_time_steps = 5   # 99 + 99: 5 digits\n",
        "\n",
        "model = Sequential([\n",
        "    SimpleRNN(hidden_units, input_shape=(None, num_features)),\n",
        "    RepeatVector(max_time_steps),\n",
        "    SimpleRNN(hidden_units, return_sequences=True),\n",
        "    TimeDistributed(Dense(num_features, activation='softmax'))\n",
        "])\n",
        "\n",
        "model.compile(\n",
        "    loss = 'categorical_crossentropy',\n",
        "    optimizer = 'adam',\n",
        "    metrics = ['accuracy']\n",
        ")\n",
        "\n",
        "model.summary()"
      ]
    },
    {
      "cell_type": "markdown",
      "metadata": {
        "id": "S8TGP6IS1ZvR"
      },
      "source": [
        "## Vectorize and De-Vectorize Data\n"
      ]
    },
    {
      "cell_type": "code",
      "execution_count": null,
      "metadata": {
        "id": "Ci29YaA6vBN1",
        "outputId": "1b73044d-594f-4d15-ce62-4f84923aac60"
      },
      "outputs": [
        {
          "name": "stdout",
          "output_type": "stream",
          "text": [
            "66+73 139\n",
            "(5, 11) (5, 11)\n"
          ]
        }
      ],
      "source": [
        "def vectorized_example(example, label):\n",
        "    x = np.zeros((max_time_steps, num_features))\n",
        "    y = np.zeros((max_time_steps, num_features))\n",
        "    \n",
        "    diff_x = max_time_steps - len(example)\n",
        "    diff_y = max_time_steps - len(label)\n",
        "    \n",
        "    for indx, char in enumerate(example):\n",
        "        x[indx + diff_x, char_to_indx[char]] = 1\n",
        "    for indx in range(diff_x):\n",
        "        x[indx, char_to_indx['0']] = 1\n",
        "        \n",
        "    for indx, char in enumerate(label):\n",
        "        y[indx + diff_y, char_to_indx[char]] = 1\n",
        "    for indx in range(diff_y):\n",
        "        y[indx, char_to_indx['0']] = 1\n",
        "        \n",
        "    return x, y\n",
        "\n",
        "e, l = generate_data()\n",
        "print(e, l)\n",
        "x, y = vectorized_example(e, l)\n",
        "print(x.shape, y.shape)"
      ]
    },
    {
      "cell_type": "code",
      "execution_count": null,
      "metadata": {
        "id": "_nARKq-bvBN9",
        "outputId": "44220bfa-25a1-41f4-b964-e789b6449060"
      },
      "outputs": [
        {
          "data": {
            "text/plain": [
              "'66+73'"
            ]
          },
          "execution_count": 9,
          "metadata": {},
          "output_type": "execute_result"
        }
      ],
      "source": [
        "def devectorized_example(example):\n",
        "    result = [indx_to_char[np.argmax(vec)] for i, vec in enumerate(example)]\n",
        "    return ''.join(result)\n",
        "\n",
        "devectorized_example(x)"
      ]
    },
    {
      "cell_type": "code",
      "execution_count": null,
      "metadata": {
        "id": "KCGUxNwNvBOA"
      },
      "outputs": [],
      "source": []
    },
    {
      "cell_type": "markdown",
      "metadata": {
        "id": "niwGi8VY1ZvS"
      },
      "source": [
        "## Create Dataset\n"
      ]
    },
    {
      "cell_type": "code",
      "execution_count": null,
      "metadata": {
        "id": "T5rdrhiVvBOI"
      },
      "outputs": [],
      "source": [
        "def create_dataset(num_examples = 10000):\n",
        "    x = np.zeros((num_examples, max_time_steps, num_features))\n",
        "    y = np.zeros((num_examples, max_time_steps, num_features))\n",
        "    \n",
        "    for i in range(num_examples):\n",
        "        e, l = generate_data()\n",
        "        e_vec, l_vec = vectorized_example(e, l)\n",
        "        x[i] = e_vec\n",
        "        y[i] = l_vec\n",
        "        \n",
        "    return x, y\n",
        "x, y = create_dataset()"
      ]
    },
    {
      "cell_type": "code",
      "execution_count": null,
      "metadata": {
        "id": "cRUvtd0IvBOO"
      },
      "outputs": [],
      "source": []
    },
    {
      "cell_type": "markdown",
      "metadata": {
        "id": "IEPFZAIZ1ZvT"
      },
      "source": [
        "## Training the Model\n"
      ]
    },
    {
      "cell_type": "code",
      "execution_count": null,
      "metadata": {
        "id": "S8HWRdiOvBOS"
      },
      "outputs": [],
      "source": [
        "l_cb = LambdaCallback(\n",
        "    on_epoch_end = lambda epoch, logs: print('{:.2f}'.format(logs['val_acc']), end = ' _ ')\n",
        ")\n",
        "\n",
        "es_cb = EarlyStopping(\n",
        "    monitor = 'val_loss',\n",
        "    patience = 10\n",
        ")"
      ]
    },
    {
      "cell_type": "code",
      "execution_count": null,
      "metadata": {
        "colab": {
          "base_uri": "https://localhost:8080/",
          "height": 187
        },
        "id": "tlNtu_9ZvBOY",
        "outputId": "82198555-f0e8-4a7a-9125-cc61cf4f4a26"
      },
      "outputs": [
        {
          "name": "stdout",
          "output_type": "stream",
          "text": [
            "0.62 _ 0.63 _ 0.65 _ 0.66 _ 0.69 _ 0.72 _ 0.75 _ 0.76 _ 0.77 _ 0.76 _ 0.77 _ 0.79 _ 0.81 _ 0.82 _ 0.83 _ 0.87 _ 0.88 _ 0.92 _ 0.92 _ 0.91 _ 0.95 _ 0.96 _ 0.96 _ 0.97 _ 0.98 _ 0.97 _ 0.98 _ 0.98 _ 0.98 _ 0.99 _ 0.99 _ 0.98 _ 0.99 _ 0.99 _ 0.99 _ 0.99 _ 0.99 _ 0.99 _ 0.99 _ 0.99 _ 0.99 _ 0.99 _ 1.00 _ 1.00 _ 1.00 _ 1.00 _ 1.00 _ 1.00 _ 1.00 _ 0.96 _ 0.99 _ 1.00 _ 1.00 _ 1.00 _ 1.00 _ 1.00 _ 1.00 _ 1.00 _ 1.00 _ 1.00 _ 1.00 _ 1.00 _ 1.00 _ 1.00 _ 1.00 _ 1.00 _ 1.00 _ 1.00 _ 1.00 _ 1.00 _ 0.99 _ 0.99 _ 0.96 _ 0.99 _ 1.00 _ 1.00 _ 1.00 _ 1.00 _ "
          ]
        },
        {
          "data": {
            "text/plain": [
              "<tensorflow.python.keras.callbacks.History at 0x20b8f28c780>"
            ]
          },
          "execution_count": 12,
          "metadata": {},
          "output_type": "execute_result"
        }
      ],
      "source": [
        "model.fit(x, y, \n",
        "          epochs = 500, \n",
        "          batch_size = 256, \n",
        "          validation_split = 0.2,\n",
        "          verbose = False,\n",
        "          callbacks = [es_cb, l_cb]\n",
        "         )"
      ]
    },
    {
      "cell_type": "code",
      "execution_count": null,
      "metadata": {
        "id": "0N-eSe9G1ZvU",
        "outputId": "510a749d-1054-48de-b0d0-73073b1cc915"
      },
      "outputs": [
        {
          "name": "stdout",
          "output_type": "stream",
          "text": [
            "\u001b[32mInput: 02+68, Out: 00070, Pred: 00070\u001b[0m\n",
            "\u001b[32mInput: 00+45, Out: 00045, Pred: 00045\u001b[0m\n",
            "\u001b[32mInput: 25+87, Out: 00112, Pred: 00112\u001b[0m\n",
            "\u001b[32mInput: 66+40, Out: 00106, Pred: 00106\u001b[0m\n",
            "\u001b[32mInput: 94+37, Out: 00131, Pred: 00131\u001b[0m\n",
            "\u001b[32mInput: 21+63, Out: 00084, Pred: 00084\u001b[0m\n",
            "\u001b[32mInput: 00+32, Out: 00032, Pred: 00032\u001b[0m\n",
            "\u001b[32mInput: 79+32, Out: 00111, Pred: 00111\u001b[0m\n",
            "\u001b[32mInput: 13+62, Out: 00075, Pred: 00075\u001b[0m\n",
            "\u001b[32mInput: 77+76, Out: 00153, Pred: 00153\u001b[0m\n",
            "\u001b[32mInput: 88+92, Out: 00180, Pred: 00180\u001b[0m\n",
            "\u001b[32mInput: 90+89, Out: 00179, Pred: 00179\u001b[0m\n",
            "\u001b[32mInput: 064+7, Out: 00071, Pred: 00071\u001b[0m\n",
            "\u001b[32mInput: 96+77, Out: 00173, Pred: 00173\u001b[0m\n",
            "\u001b[32mInput: 01+44, Out: 00045, Pred: 00045\u001b[0m\n",
            "\u001b[32mInput: 050+9, Out: 00059, Pred: 00059\u001b[0m\n",
            "\u001b[32mInput: 54+17, Out: 00071, Pred: 00071\u001b[0m\n",
            "\u001b[32mInput: 55+49, Out: 00104, Pred: 00104\u001b[0m\n",
            "\u001b[32mInput: 61+60, Out: 00121, Pred: 00121\u001b[0m\n",
            "\u001b[32mInput: 32+34, Out: 00066, Pred: 00066\u001b[0m\n"
          ]
        }
      ],
      "source": [
        "x_test, y_test = create_dataset(20)\n",
        "preds = model.predict(x_test)\n",
        "\n",
        "for i, pred in enumerate(preds):\n",
        "    y = devectorized_example(y_test[i])\n",
        "    y_hat = devectorized_example(pred)\n",
        "    color = 'green'\n",
        "    if y != y_hat:\n",
        "        color = 'red'\n",
        "    out = 'Input: ' + devectorized_example(x_test[i]) + ', Out: ' + y + ', Pred: ' + y_hat\n",
        "    print(colored(out, color))"
      ]
    },
    {
      "cell_type": "code",
      "execution_count": null,
      "metadata": {
        "id": "lh1oSvYt1ZvV"
      },
      "outputs": [],
      "source": []
    }
  ],
  "metadata": {
    "accelerator": "GPU",
    "colab": {
      "name": "addition_simpleRNN.ipynb",
      "provenance": []
    },
    "kernelspec": {
      "display_name": "Python 3 (ipykernel)",
      "language": "python",
      "name": "python3"
    },
    "language_info": {
      "codemirror_mode": {
        "name": "ipython",
        "version": 3
      },
      "file_extension": ".py",
      "mimetype": "text/x-python",
      "name": "python",
      "nbconvert_exporter": "python",
      "pygments_lexer": "ipython3",
      "version": "3.9.12"
    }
  },
  "nbformat": 4,
  "nbformat_minor": 0
}